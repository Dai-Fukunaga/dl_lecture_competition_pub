{
 "cells": [
  {
   "cell_type": "code",
   "execution_count": 1,
   "metadata": {},
   "outputs": [],
   "source": [
    "import os, sys\n",
    "import numpy as np\n",
    "import torch\n",
    "import torch.nn.functional as F\n",
    "from torchmetrics import Accuracy\n",
    "import hydra\n",
    "from omegaconf import DictConfig\n",
    "import wandb\n",
    "from termcolor import cprint\n",
    "from tqdm import tqdm\n",
    "\n",
    "from src.datasets import ThingsMEGDataset\n",
    "from src.densenet import DenseNetClassifier\n",
    "from src.resnet2d import resnet50_2d\n",
    "from src.resnet1d import resnet50_1d\n",
    "\n",
    "import torch.optim.lr_scheduler as lr_scheduler\n",
    "import torchvision.transforms as transforms\n",
    "\n",
    "from src.utils import set_seed\n",
    "from scipy.signal import butter, sosfiltfilt\n",
    "from datetime import datetime as dt"
   ]
  },
  {
   "cell_type": "code",
   "execution_count": 2,
   "metadata": {},
   "outputs": [],
   "source": [
    "# ハイパーパラメータの設定\n",
    "args = DictConfig({\n",
    "    'seed': 1234,\n",
    "    'data_dir': 'data',\n",
    "    'batch_size': 128,\n",
    "    'num_workers': 8,\n",
    "    'lr': 0.001,\n",
    "    'epochs': 30,\n",
    "    'device': 'cuda' if torch.cuda.is_available() else 'cpu',\n",
    "    'use_wandb': False\n",
    "})\n",
    "\n",
    "set_seed(args.seed)\n",
    "logdir = 'outputs'\n",
    "\n",
    "if args.use_wandb:\n",
    "    wandb.init(mode=\"online\", dir=logdir, project=\"MEG-classification\")\n"
   ]
  },
  {
   "cell_type": "code",
   "execution_count": 3,
   "metadata": {},
   "outputs": [],
   "source": [
    "# ------------------\n",
    "#    Dataloader\n",
    "# ------------------\n",
    "loader_args = {\"batch_size\": args.batch_size, \"num_workers\": args.num_workers}"
   ]
  },
  {
   "cell_type": "code",
   "execution_count": 4,
   "metadata": {},
   "outputs": [],
   "source": [
    "import torch\n",
    "\n",
    "class Normalize:\n",
    "    def __init__(self, mean, std):\n",
    "        self.mean = mean\n",
    "        self.std = std\n",
    "\n",
    "    def __call__(self, data):\n",
    "        return (data - self.mean) / self.std\n",
    "\n",
    "def calculate_mean_std(dataset):\n",
    "    all_data = torch.cat([dataset[i][0] for i in range(len(dataset))], dim=1)\n",
    "    mean = all_data.mean()\n",
    "    std = all_data.std()\n",
    "    return mean, std\n"
   ]
  },
  {
   "cell_type": "code",
   "execution_count": 5,
   "metadata": {},
   "outputs": [],
   "source": [
    "train_set = ThingsMEGDataset(\"train\", args.data_dir, transforms=None)\n",
    "mean, std = calculate_mean_std(train_set)\n",
    "normalize_transform = Normalize(mean, std)\n",
    "train_set = ThingsMEGDataset(\"train\", args.data_dir, transforms=normalize_transform)\n",
    "train_loader = torch.utils.data.DataLoader(train_set, shuffle=True, **loader_args)\n",
    "val_set = ThingsMEGDataset(\"val\", args.data_dir, transforms=normalize_transform)\n",
    "val_loader = torch.utils.data.DataLoader(val_set, shuffle=False, **loader_args)\n",
    "test_set = ThingsMEGDataset(\"test\", args.data_dir, transforms=normalize_transform)\n",
    "test_loader = torch.utils.data.DataLoader(\n",
    "    test_set,\n",
    "    shuffle=False,\n",
    "    batch_size=args.batch_size,\n",
    "    num_workers=args.num_workers,\n",
    ")\n"
   ]
  },
  {
   "cell_type": "code",
   "execution_count": 6,
   "metadata": {},
   "outputs": [
    {
     "data": {
      "text/plain": [
       "(tensor([[-0.0133, -0.1427, -0.2028,  ...,  0.5933,  0.4664,  0.1367],\n",
       "         [-0.2018, -0.2515, -0.2093,  ...,  0.3536,  0.1010, -0.3133],\n",
       "         [-0.0569, -0.1831, -0.1927,  ...,  0.1002, -0.3236, -0.6687],\n",
       "         ...,\n",
       "         [ 0.0532,  0.5752,  0.5588,  ...,  0.0176, -0.1719, -0.0257],\n",
       "         [ 0.6802,  0.8113,  0.6213,  ...,  0.1411, -0.1011, -0.2018],\n",
       "         [-0.2484,  0.1821,  0.3607,  ...,  0.4149,  0.2179, -0.0297]]),\n",
       " tensor(1556),\n",
       " tensor(0))"
      ]
     },
     "execution_count": 6,
     "metadata": {},
     "output_type": "execute_result"
    }
   ],
   "source": [
    "train_set[4]"
   ]
  },
  {
   "cell_type": "code",
   "execution_count": 7,
   "metadata": {},
   "outputs": [],
   "source": [
    "# ------------------\n",
    "#       Model\n",
    "# ------------------\n",
    "# model = DenseNetClassifier(\n",
    "#     train_set.num_classes, train_set.seq_len, train_set.num_channels\n",
    "# ).to(args.device)\n",
    "\n",
    "model = resnet50_1d(\n",
    "    num_classes=train_set.num_classes, in_channels=train_set.num_channels\n",
    ").to(args.device)\n",
    "\n",
    "# ------------------\n",
    "#     Optimizer\n",
    "# ------------------\n",
    "optimizer = torch.optim.Adam(model.parameters(), lr=args.lr)\n",
    "\n",
    "# スケジューラ―\n",
    "scheduler = lr_scheduler.StepLR(optimizer, step_size=10, gamma=0.1)\n",
    "\n",
    "# ------------------\n",
    "#   Start training\n",
    "# ------------------\n",
    "max_val_acc = 0\n",
    "accuracy = Accuracy(\n",
    "    task=\"multiclass\", num_classes=train_set.num_classes, top_k=10\n",
    ").to(args.device)"
   ]
  },
  {
   "cell_type": "code",
   "execution_count": 8,
   "metadata": {},
   "outputs": [
    {
     "name": "stdout",
     "output_type": "stream",
     "text": [
      "Epoch 1/30\n"
     ]
    },
    {
     "name": "stderr",
     "output_type": "stream",
     "text": [
      "Train: 100%|██████████| 514/514 [00:34<00:00, 15.11it/s]\n",
      "Validation: 100%|██████████| 129/129 [00:03<00:00, 34.26it/s]\n"
     ]
    },
    {
     "name": "stdout",
     "output_type": "stream",
     "text": [
      "Epoch 1/30 | train loss: 7.592 | train acc: 0.008 | val loss: 7.516 | val acc: 0.010\n",
      "\u001b[36mNew best.\u001b[0m\n",
      "Epoch 2/30\n"
     ]
    },
    {
     "name": "stderr",
     "output_type": "stream",
     "text": [
      "Train: 100%|██████████| 514/514 [00:34<00:00, 15.05it/s]\n",
      "Validation: 100%|██████████| 129/129 [00:03<00:00, 33.23it/s]\n"
     ]
    },
    {
     "name": "stdout",
     "output_type": "stream",
     "text": [
      "Epoch 2/30 | train loss: 7.511 | train acc: 0.008 | val loss: 7.511 | val acc: 0.010\n",
      "\u001b[36mNew best.\u001b[0m\n",
      "Epoch 3/30\n"
     ]
    },
    {
     "name": "stderr",
     "output_type": "stream",
     "text": [
      "Train: 100%|██████████| 514/514 [00:31<00:00, 16.22it/s]\n",
      "Validation: 100%|██████████| 129/129 [00:03<00:00, 34.46it/s]\n"
     ]
    },
    {
     "name": "stdout",
     "output_type": "stream",
     "text": [
      "Epoch 3/30 | train loss: 7.503 | train acc: 0.008 | val loss: 7.500 | val acc: 0.010\n",
      "Epoch 4/30\n"
     ]
    },
    {
     "name": "stderr",
     "output_type": "stream",
     "text": [
      "Train: 100%|██████████| 514/514 [00:30<00:00, 16.82it/s]\n",
      "Validation: 100%|██████████| 129/129 [00:04<00:00, 26.60it/s]\n"
     ]
    },
    {
     "name": "stdout",
     "output_type": "stream",
     "text": [
      "Epoch 4/30 | train loss: 7.503 | train acc: 0.008 | val loss: 24.368 | val acc: 0.008\n",
      "Epoch 5/30\n"
     ]
    },
    {
     "name": "stderr",
     "output_type": "stream",
     "text": [
      "Train: 100%|██████████| 514/514 [00:31<00:00, 16.20it/s]\n",
      "Validation: 100%|██████████| 129/129 [00:03<00:00, 33.85it/s]\n"
     ]
    },
    {
     "name": "stdout",
     "output_type": "stream",
     "text": [
      "Epoch 5/30 | train loss: 7.498 | train acc: 0.008 | val loss: 7.507 | val acc: 0.010\n",
      "\u001b[36mNew best.\u001b[0m\n",
      "Epoch 6/30\n"
     ]
    },
    {
     "name": "stderr",
     "output_type": "stream",
     "text": [
      "Train: 100%|██████████| 514/514 [00:31<00:00, 16.24it/s]\n",
      "Validation: 100%|██████████| 129/129 [00:03<00:00, 34.20it/s]\n"
     ]
    },
    {
     "name": "stdout",
     "output_type": "stream",
     "text": [
      "Epoch 6/30 | train loss: 7.488 | train acc: 0.009 | val loss: 7.526 | val acc: 0.011\n",
      "\u001b[36mNew best.\u001b[0m\n",
      "Epoch 7/30\n"
     ]
    },
    {
     "name": "stderr",
     "output_type": "stream",
     "text": [
      "Train: 100%|██████████| 514/514 [00:32<00:00, 16.06it/s]\n",
      "Validation: 100%|██████████| 129/129 [00:03<00:00, 34.05it/s]\n"
     ]
    },
    {
     "name": "stdout",
     "output_type": "stream",
     "text": [
      "Epoch 7/30 | train loss: 7.481 | train acc: 0.009 | val loss: 7.507 | val acc: 0.010\n",
      "Epoch 8/30\n"
     ]
    },
    {
     "name": "stderr",
     "output_type": "stream",
     "text": [
      "Train: 100%|██████████| 514/514 [00:31<00:00, 16.09it/s]\n",
      "Validation: 100%|██████████| 129/129 [00:03<00:00, 34.83it/s]\n"
     ]
    },
    {
     "name": "stdout",
     "output_type": "stream",
     "text": [
      "Epoch 8/30 | train loss: 7.475 | train acc: 0.010 | val loss: 7.527 | val acc: 0.010\n",
      "Epoch 9/30\n"
     ]
    },
    {
     "name": "stderr",
     "output_type": "stream",
     "text": [
      "Train: 100%|██████████| 514/514 [00:31<00:00, 16.08it/s]\n",
      "Validation: 100%|██████████| 129/129 [00:03<00:00, 34.36it/s]\n"
     ]
    },
    {
     "name": "stdout",
     "output_type": "stream",
     "text": [
      "Epoch 9/30 | train loss: 7.468 | train acc: 0.010 | val loss: 7.601 | val acc: 0.011\n",
      "\u001b[36mNew best.\u001b[0m\n",
      "Epoch 10/30\n"
     ]
    },
    {
     "name": "stderr",
     "output_type": "stream",
     "text": [
      "Train: 100%|██████████| 514/514 [00:32<00:00, 16.03it/s]\n",
      "Validation: 100%|██████████| 129/129 [00:03<00:00, 35.70it/s]\n"
     ]
    },
    {
     "name": "stdout",
     "output_type": "stream",
     "text": [
      "Epoch 10/30 | train loss: 7.460 | train acc: 0.011 | val loss: 7.543 | val acc: 0.010\n",
      "Epoch 11/30\n"
     ]
    },
    {
     "name": "stderr",
     "output_type": "stream",
     "text": [
      "Train: 100%|██████████| 514/514 [00:31<00:00, 16.06it/s]\n",
      "Validation: 100%|██████████| 129/129 [00:03<00:00, 34.86it/s]\n"
     ]
    },
    {
     "name": "stdout",
     "output_type": "stream",
     "text": [
      "Epoch 11/30 | train loss: 7.433 | train acc: 0.014 | val loss: 7.561 | val acc: 0.011\n",
      "Epoch 12/30\n"
     ]
    },
    {
     "name": "stderr",
     "output_type": "stream",
     "text": [
      "Train: 100%|██████████| 514/514 [00:32<00:00, 15.96it/s]\n",
      "Validation: 100%|██████████| 129/129 [00:03<00:00, 32.90it/s]\n"
     ]
    },
    {
     "name": "stdout",
     "output_type": "stream",
     "text": [
      "Epoch 12/30 | train loss: 7.426 | train acc: 0.014 | val loss: 7.556 | val acc: 0.011\n",
      "Epoch 13/30\n"
     ]
    },
    {
     "name": "stderr",
     "output_type": "stream",
     "text": [
      "Train: 100%|██████████| 514/514 [00:32<00:00, 16.01it/s]\n",
      "Validation: 100%|██████████| 129/129 [00:03<00:00, 34.34it/s]\n"
     ]
    },
    {
     "name": "stdout",
     "output_type": "stream",
     "text": [
      "Epoch 13/30 | train loss: 7.421 | train acc: 0.014 | val loss: 7.573 | val acc: 0.011\n",
      "Epoch 14/30\n"
     ]
    },
    {
     "name": "stderr",
     "output_type": "stream",
     "text": [
      "Train: 100%|██████████| 514/514 [00:31<00:00, 16.09it/s]\n",
      "Validation: 100%|██████████| 129/129 [00:03<00:00, 33.29it/s]\n"
     ]
    },
    {
     "name": "stdout",
     "output_type": "stream",
     "text": [
      "Epoch 14/30 | train loss: 7.416 | train acc: 0.015 | val loss: 7.575 | val acc: 0.011\n",
      "Epoch 15/30\n"
     ]
    },
    {
     "name": "stderr",
     "output_type": "stream",
     "text": [
      "Train: 100%|██████████| 514/514 [00:31<00:00, 16.12it/s]\n",
      "Validation: 100%|██████████| 129/129 [00:03<00:00, 33.18it/s]\n"
     ]
    },
    {
     "name": "stdout",
     "output_type": "stream",
     "text": [
      "Epoch 15/30 | train loss: 7.407 | train acc: 0.016 | val loss: 7.604 | val acc: 0.011\n",
      "Epoch 16/30\n"
     ]
    },
    {
     "name": "stderr",
     "output_type": "stream",
     "text": [
      "Train: 100%|██████████| 514/514 [00:32<00:00, 16.06it/s]\n",
      "Validation: 100%|██████████| 129/129 [00:04<00:00, 27.11it/s]\n"
     ]
    },
    {
     "name": "stdout",
     "output_type": "stream",
     "text": [
      "Epoch 16/30 | train loss: 7.400 | train acc: 0.016 | val loss: 7.604 | val acc: 0.011\n",
      "Epoch 17/30\n"
     ]
    },
    {
     "name": "stderr",
     "output_type": "stream",
     "text": [
      "Train: 100%|██████████| 514/514 [00:32<00:00, 16.04it/s]\n",
      "Validation: 100%|██████████| 129/129 [00:03<00:00, 33.87it/s]\n"
     ]
    },
    {
     "name": "stdout",
     "output_type": "stream",
     "text": [
      "Epoch 17/30 | train loss: 7.391 | train acc: 0.017 | val loss: 7.670 | val acc: 0.011\n",
      "Epoch 18/30\n"
     ]
    },
    {
     "name": "stderr",
     "output_type": "stream",
     "text": [
      "Train: 100%|██████████| 514/514 [00:31<00:00, 16.11it/s]\n",
      "Validation: 100%|██████████| 129/129 [00:03<00:00, 32.69it/s]\n"
     ]
    },
    {
     "name": "stdout",
     "output_type": "stream",
     "text": [
      "Epoch 18/30 | train loss: 7.376 | train acc: 0.018 | val loss: 7.664 | val acc: 0.011\n",
      "Epoch 19/30\n"
     ]
    },
    {
     "name": "stderr",
     "output_type": "stream",
     "text": [
      "Train: 100%|██████████| 514/514 [00:32<00:00, 15.87it/s]\n",
      "Validation: 100%|██████████| 129/129 [00:03<00:00, 34.10it/s]\n"
     ]
    },
    {
     "name": "stdout",
     "output_type": "stream",
     "text": [
      "Epoch 19/30 | train loss: 7.361 | train acc: 0.019 | val loss: 7.657 | val acc: 0.010\n",
      "Epoch 20/30\n"
     ]
    },
    {
     "name": "stderr",
     "output_type": "stream",
     "text": [
      "Train: 100%|██████████| 514/514 [00:32<00:00, 15.92it/s]\n",
      "Validation: 100%|██████████| 129/129 [00:03<00:00, 34.53it/s]\n"
     ]
    },
    {
     "name": "stdout",
     "output_type": "stream",
     "text": [
      "Epoch 20/30 | train loss: 7.343 | train acc: 0.019 | val loss: 7.702 | val acc: 0.011\n",
      "Epoch 21/30\n"
     ]
    },
    {
     "name": "stderr",
     "output_type": "stream",
     "text": [
      "Train: 100%|██████████| 514/514 [00:31<00:00, 16.09it/s]\n",
      "Validation: 100%|██████████| 129/129 [00:03<00:00, 33.83it/s]\n"
     ]
    },
    {
     "name": "stdout",
     "output_type": "stream",
     "text": [
      "Epoch 21/30 | train loss: 7.308 | train acc: 0.023 | val loss: 7.713 | val acc: 0.011\n",
      "Epoch 22/30\n"
     ]
    },
    {
     "name": "stderr",
     "output_type": "stream",
     "text": [
      "Train: 100%|██████████| 514/514 [00:32<00:00, 16.04it/s]\n",
      "Validation: 100%|██████████| 129/129 [00:03<00:00, 33.63it/s]\n"
     ]
    },
    {
     "name": "stdout",
     "output_type": "stream",
     "text": [
      "Epoch 22/30 | train loss: 7.300 | train acc: 0.024 | val loss: 7.747 | val acc: 0.012\n",
      "\u001b[36mNew best.\u001b[0m\n",
      "Epoch 23/30\n"
     ]
    },
    {
     "name": "stderr",
     "output_type": "stream",
     "text": [
      "Train: 100%|██████████| 514/514 [00:31<00:00, 16.15it/s]\n",
      "Validation: 100%|██████████| 129/129 [00:03<00:00, 33.51it/s]\n"
     ]
    },
    {
     "name": "stdout",
     "output_type": "stream",
     "text": [
      "Epoch 23/30 | train loss: 7.297 | train acc: 0.024 | val loss: 7.718 | val acc: 0.012\n",
      "\u001b[36mNew best.\u001b[0m\n",
      "Epoch 24/30\n"
     ]
    },
    {
     "name": "stderr",
     "output_type": "stream",
     "text": [
      "Train: 100%|██████████| 514/514 [00:31<00:00, 16.11it/s]\n",
      "Validation: 100%|██████████| 129/129 [00:03<00:00, 33.39it/s]\n"
     ]
    },
    {
     "name": "stdout",
     "output_type": "stream",
     "text": [
      "Epoch 24/30 | train loss: 7.292 | train acc: 0.024 | val loss: 7.731 | val acc: 0.011\n",
      "Epoch 25/30\n"
     ]
    },
    {
     "name": "stderr",
     "output_type": "stream",
     "text": [
      "Train: 100%|██████████| 514/514 [00:31<00:00, 16.38it/s]\n",
      "Validation: 100%|██████████| 129/129 [00:03<00:00, 35.55it/s]\n"
     ]
    },
    {
     "name": "stdout",
     "output_type": "stream",
     "text": [
      "Epoch 25/30 | train loss: 7.290 | train acc: 0.024 | val loss: 7.718 | val acc: 0.011\n",
      "Epoch 26/30\n"
     ]
    },
    {
     "name": "stderr",
     "output_type": "stream",
     "text": [
      "Train: 100%|██████████| 514/514 [00:30<00:00, 16.63it/s]\n",
      "Validation: 100%|██████████| 129/129 [00:03<00:00, 34.74it/s]\n"
     ]
    },
    {
     "name": "stdout",
     "output_type": "stream",
     "text": [
      "Epoch 26/30 | train loss: 7.287 | train acc: 0.025 | val loss: 7.749 | val acc: 0.011\n",
      "Epoch 27/30\n"
     ]
    },
    {
     "name": "stderr",
     "output_type": "stream",
     "text": [
      "Train: 100%|██████████| 514/514 [00:30<00:00, 16.59it/s]\n",
      "Validation: 100%|██████████| 129/129 [00:03<00:00, 34.48it/s]\n"
     ]
    },
    {
     "name": "stdout",
     "output_type": "stream",
     "text": [
      "Epoch 27/30 | train loss: 7.284 | train acc: 0.025 | val loss: 7.789 | val acc: 0.011\n",
      "Epoch 28/30\n"
     ]
    },
    {
     "name": "stderr",
     "output_type": "stream",
     "text": [
      "Train: 100%|██████████| 514/514 [00:31<00:00, 16.51it/s]\n",
      "Validation: 100%|██████████| 129/129 [00:04<00:00, 27.12it/s]\n"
     ]
    },
    {
     "name": "stdout",
     "output_type": "stream",
     "text": [
      "Epoch 28/30 | train loss: 7.279 | train acc: 0.026 | val loss: 7.739 | val acc: 0.011\n",
      "Epoch 29/30\n"
     ]
    },
    {
     "name": "stderr",
     "output_type": "stream",
     "text": [
      "Train: 100%|██████████| 514/514 [00:30<00:00, 17.10it/s]\n",
      "Validation: 100%|██████████| 129/129 [00:04<00:00, 27.62it/s]\n"
     ]
    },
    {
     "name": "stdout",
     "output_type": "stream",
     "text": [
      "Epoch 29/30 | train loss: 7.277 | train acc: 0.026 | val loss: 7.777 | val acc: 0.012\n",
      "Epoch 30/30\n"
     ]
    },
    {
     "name": "stderr",
     "output_type": "stream",
     "text": [
      "Train: 100%|██████████| 514/514 [00:31<00:00, 16.41it/s]\n",
      "Validation: 100%|██████████| 129/129 [00:03<00:00, 33.17it/s]\n"
     ]
    },
    {
     "name": "stdout",
     "output_type": "stream",
     "text": [
      "Epoch 30/30 | train loss: 7.274 | train acc: 0.026 | val loss: 7.747 | val acc: 0.011\n"
     ]
    }
   ],
   "source": [
    "import torch\n",
    "import torch.backends.cudnn as cudnn\n",
    "from tqdm import tqdm\n",
    "\n",
    "# # CUDAの設定を確認・調整\n",
    "# cudnn.enabled = False\n",
    "# torch.cuda.empty_cache()\n",
    "\n",
    "# トレーニングループ\n",
    "max_val_acc = 0\n",
    "accuracy = Accuracy(task=\"multiclass\", num_classes=train_set.num_classes, top_k=10).to(args.device)\n",
    "\n",
    "for epoch in range(args.epochs):\n",
    "    print(f\"Epoch {epoch+1}/{args.epochs}\")\n",
    "\n",
    "    train_loss, train_acc, val_loss, val_acc = [], [], [], []\n",
    "\n",
    "    model.train()\n",
    "    for X, y, subject_idxs in tqdm(train_loader, desc=\"Train\"):\n",
    "        X, y, subject_idxs = X.to(args.device), y.to(args.device), subject_idxs.to(args.device)\n",
    "        # print(f\"Input shape: {X.shape}\")\n",
    "        # print(f\"Subject indices shape: {subject_idxs.shape}\")\n",
    "\n",
    "        try:\n",
    "            X = X.clone().detach()\n",
    "            subject_idxs = subject_idxs.clone().detach()\n",
    "\n",
    "            y_pred = model(X, subject_idxs)\n",
    "\n",
    "            loss = F.cross_entropy(y_pred, y)\n",
    "            train_loss.append(loss.item())\n",
    "\n",
    "            optimizer.zero_grad()\n",
    "            loss.backward()\n",
    "            optimizer.step()\n",
    "\n",
    "            acc = accuracy(y_pred, y)\n",
    "            train_acc.append(acc.item())\n",
    "        except RuntimeError as e:\n",
    "            print(f\"RuntimeError: {e}\")\n",
    "            torch.cuda.empty_cache()\n",
    "            continue\n",
    "\n",
    "    model.eval()\n",
    "    for X, y, subject_idxs in tqdm(val_loader, desc=\"Validation\"):\n",
    "        X, y, subject_idxs = X.to(args.device), y.to(args.device), subject_idxs.to(args.device)\n",
    "\n",
    "        with torch.no_grad():\n",
    "            y_pred = model(X, subject_idxs)\n",
    "\n",
    "        val_loss.append(F.cross_entropy(y_pred, y).item())\n",
    "        val_acc.append(accuracy(y_pred, y).item())\n",
    "\n",
    "    scheduler.step()\n",
    "\n",
    "    print(f\"Epoch {epoch+1}/{args.epochs} | train loss: {np.mean(train_loss):.3f} | train acc: {np.mean(train_acc):.3f} | val loss: {np.mean(val_loss):.3f} | val acc: {np.mean(val_acc):.3f}\")\n",
    "    torch.save(model.state_dict(), os.path.join(logdir, \"model_last.pt\"))\n",
    "    if args.use_wandb:\n",
    "        wandb.log({\n",
    "            \"train_loss\": np.mean(train_loss),\n",
    "            \"train_acc\": np.mean(train_acc),\n",
    "            \"val_loss\": np.mean(val_loss),\n",
    "            \"val_acc\": np.mean(val_acc),\n",
    "        })\n",
    "\n",
    "    if np.mean(val_acc) > max_val_acc:\n",
    "        cprint(\"New best.\", \"cyan\")\n",
    "        torch.save(model.state_dict(), os.path.join(logdir, \"model_best.pt\"))\n",
    "        max_val_acc = np.mean(val_acc)\n"
   ]
  },
  {
   "cell_type": "code",
   "execution_count": 9,
   "metadata": {},
   "outputs": [
    {
     "name": "stderr",
     "output_type": "stream",
     "text": [
      "Validation: 100%|██████████| 129/129 [00:03<00:00, 34.45it/s]\n"
     ]
    },
    {
     "name": "stdout",
     "output_type": "stream",
     "text": [
      "\u001b[36mSubmission (16432, 1854) saved at outputs\u001b[0m\n"
     ]
    }
   ],
   "source": [
    "# ベストモデルでの評価\n",
    "model.load_state_dict(torch.load(os.path.join(logdir, \"model_best.pt\"), map_location=args.device))\n",
    "\n",
    "preds = []\n",
    "model.eval()\n",
    "for X, subject_idxs in tqdm(test_loader, desc=\"Validation\"):\n",
    "    with torch.no_grad():\n",
    "        pred = model(X.to(args.device), subject_idxs.to(args.device))\n",
    "    preds.append(pred.detach().cpu())\n",
    "\n",
    "preds = torch.cat(preds, dim=0).numpy()\n",
    "np.save(os.path.join(logdir, \"submission\"), preds)\n",
    "cprint(f\"Submission {preds.shape} saved at {logdir}\", \"cyan\")\n"
   ]
  }
 ],
 "metadata": {
  "kernelspec": {
   "display_name": "dlbasics",
   "language": "python",
   "name": "python3"
  },
  "language_info": {
   "codemirror_mode": {
    "name": "ipython",
    "version": 3
   },
   "file_extension": ".py",
   "mimetype": "text/x-python",
   "name": "python",
   "nbconvert_exporter": "python",
   "pygments_lexer": "ipython3",
   "version": "3.10.13"
  }
 },
 "nbformat": 4,
 "nbformat_minor": 2
}
